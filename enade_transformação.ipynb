{
  "nbformat": 4,
  "nbformat_minor": 0,
  "metadata": {
    "kernelspec": {
      "display_name": "Python 3",
      "language": "python",
      "name": "python3"
    },
    "language_info": {
      "codemirror_mode": {
        "name": "ipython",
        "version": 3
      },
      "file_extension": ".py",
      "mimetype": "text/x-python",
      "name": "python",
      "nbconvert_exporter": "python",
      "pygments_lexer": "ipython3",
      "version": "3.8.3"
    },
    "colab": {
      "name": "02_enade_transformação.ipynb",
      "provenance": []
    }
  },
  "cells": [
    {
      "cell_type": "markdown",
      "metadata": {
        "id": "KFephTvWLHRL"
      },
      "source": [
        "# Enade - Transformação de dados - parte 01"
      ]
    },
    {
      "cell_type": "code",
      "metadata": {
        "id": "zFodL4aJLHRN"
      },
      "source": [
        "#importando bibliotecas necessárias\n",
        "import pandas as pd\n",
        "import numpy as np\n",
        "import os"
      ],
      "execution_count": null,
      "outputs": []
    },
    {
      "cell_type": "code",
      "metadata": {
        "id": "GHqsEyi1LHRO"
      },
      "source": [
        "enade = pd.read_csv(\n",
        "    \"./enade2019/microdados_enade_2019/2019/3.DADOS/microdados_enade_2019.txt\",\n",
        "    sep=';', decimal=','\n",
        "\n",
        ")"
      ],
      "execution_count": null,
      "outputs": []
    },
    {
      "cell_type": "code",
      "metadata": {
        "id": "YU461ntWLHRO"
      },
      "source": [
        "enade.head()"
      ],
      "execution_count": null,
      "outputs": []
    },
    {
      "cell_type": "code",
      "metadata": {
        "id": "Kuh8b2G2LHRO"
      },
      "source": [
        "#verificando schema da tabela\n",
        "dict(enade.dtypes)"
      ],
      "execution_count": null,
      "outputs": []
    },
    {
      "cell_type": "markdown",
      "metadata": {
        "id": "19_bJzw4LHRO"
      },
      "source": [
        "\n",
        "- CO_IES\n",
        "- CO_CATEGAD\n",
        "- CO_GRUPO\n",
        "- CO_MODALIDADE\n",
        "- CO_UF_CURSO\n",
        "- CO_REGIAO_CURSO\n",
        "- NU_IDADE\n",
        "- TP_SEXO\n",
        "- NT_GER\n",
        "- NT_FG\n",
        "- NT_CE\n",
        "\n",
        "MAIS ALGUNS ITENS DO QUESTIONÁRIO DO ESTUDANTE:\n",
        "- 01: Estado Civil\n",
        "- 02: cor ou raça\n",
        "- 04: Escolaridade do pai\n",
        "- 05: Escolaridade da mãe\n",
        "- 08: Renda Familiar\n",
        "- 10: Situação de trabalho\n",
        "- 11: Situação de bolsas\n",
        "- 14: Intercâmbio\n",
        "- 15: Cotas\n",
        "- 23: Horas de estudo por semana\n",
        "- 25: Motivo de escolha do curso\n",
        "- 26: Motivo de escolha da IES\n",
        "    "
      ]
    },
    {
      "cell_type": "code",
      "metadata": {
        "id": "DOWZAhQ_LHRP"
      },
      "source": [
        "#Alguns dados da coluna NT_GER\n",
        "enade.NT_GER.describe()"
      ],
      "execution_count": null,
      "outputs": []
    },
    {
      "cell_type": "code",
      "metadata": {
        "id": "jrsE1WTKLHRP"
      },
      "source": [
        "# contando numeros de nulos\n",
        "enade.NT_GER.isnull().sum()"
      ],
      "execution_count": null,
      "outputs": []
    },
    {
      "cell_type": "code",
      "metadata": {
        "id": "7pOSiEztLHRQ"
      },
      "source": [
        "# quantidade relativa de nulos\n",
        "enade.NT_GER.isnull().sum() / enade.shape[0] #divisao pela quantidade total de linhas (posição 0 da tupla)"
      ],
      "execution_count": null,
      "outputs": []
    },
    {
      "cell_type": "code",
      "metadata": {
        "id": "NvyciNPiLHRQ"
      },
      "source": [
        "# acessando estatísticas descritivas da nota geral\n",
        "# filtrando alunos da região nordeste (cod 2 de acordo com o dicionário de variáveis)\n",
        "enade.loc[\n",
        "    \n",
        "    enade.CO_REGIAO_CURSO == 2\n",
        "].NT_GER.describe()"
      ],
      "execution_count": null,
      "outputs": []
    },
    {
      "cell_type": "code",
      "metadata": {
        "id": "IJmYTlgdLHRR"
      },
      "source": [
        "#calculando estatísticas descritivas apenas para aluno com nota maior que zero\n",
        "enade.loc[\n",
        "    enade.NT_GER > 0\n",
        "].NT_GER.describe()"
      ],
      "execution_count": null,
      "outputs": []
    },
    {
      "cell_type": "code",
      "metadata": {
        "id": "Fmp3J4XSLHRR"
      },
      "source": [
        "# filtrando apenas alunos entre 20 e 50 anos\n",
        "enade.loc[\n",
        "    (enade.NU_IDADE >= 20) & (enade.NU_IDADE <= 50)\n",
        "].NT_GER.describe()"
      ],
      "execution_count": null,
      "outputs": []
    },
    {
      "cell_type": "code",
      "metadata": {
        "id": "oCGFfQxCLHRR"
      },
      "source": [
        "# Tabela cruzada\n",
        "# Contagem de aluno por sexo\n",
        "\n",
        "enade.TP_SEXO.value_counts() / enade.shape[0]"
      ],
      "execution_count": null,
      "outputs": []
    },
    {
      "cell_type": "code",
      "metadata": {
        "id": "59SWe1CqLHRS"
      },
      "source": [
        "# Comparando médias de notas para cada região do Brasil\n",
        "enade[['NT_GER', 'NT_FG', 'NT_CE']].describe()\n"
      ],
      "execution_count": null,
      "outputs": []
    },
    {
      "cell_type": "code",
      "metadata": {
        "id": "V0IKlfz0LHRS"
      },
      "source": [
        "# Agregando por região do curso\n",
        "enade.groupby('CO_REGIAO_CURSO').agg({\n",
        "    \"NT_GER\" : 'mean',\n",
        "    \"NT_FG\"  : 'mean',\n",
        "    \"NT_CE\"  : 'mean'\n",
        "})"
      ],
      "execution_count": null,
      "outputs": []
    },
    {
      "cell_type": "markdown",
      "metadata": {
        "id": "umTzO5iuLHRS"
      },
      "source": [
        "## Transformações"
      ]
    },
    {
      "cell_type": "markdown",
      "metadata": {
        "id": "Ut20VHOBLHRS"
      },
      "source": [
        "CO_IES\n",
        "CO_CATEGAD\n",
        "CO_GRUPO\n",
        "CO_MODALIDADE\n",
        "CO_UF_CURSO\n",
        "CO_REGIAO_CURSO\n",
        "NU_IDADE\n",
        "TP_SEXO\n",
        "NT_GER\n",
        "NT_FG\n",
        "NT_CE"
      ]
    },
    {
      "cell_type": "code",
      "metadata": {
        "id": "w-JCKoZtLHRT"
      },
      "source": [
        "# cria coluna DESC_PUBLICA e faz um filtro na CO_CATEGAD entre IES privadas e publicas\n",
        "enade['DESC_PUBLICA'] = \"\"\n",
        "enade.loc[\n",
        "    enade.CO_CATEGAD.isin([118, 120, 121, 10005, 10006, 10007, 10008, 10009, 17634 ]),\n",
        "    \"DESC_ PUBLICA\"\n",
        "] = \"Privado\"\n",
        "\n",
        "enade.loc[\n",
        "    enade.CO_CATEGAD.isin([93, 115, 116, 10001, 10002, 10003]),\n",
        "    \"DESC_PUBLICA\"\n",
        "\n",
        "] = \"Público\""
      ],
      "execution_count": null,
      "outputs": []
    },
    {
      "cell_type": "code",
      "metadata": {
        "id": "5zQJADiPLHRT"
      },
      "source": [
        "enade.DESC_PUBLICA.value_counts() / enade.shape[0]"
      ],
      "execution_count": null,
      "outputs": []
    },
    {
      "cell_type": "code",
      "metadata": {
        "id": "oIHmAGDsLHRT"
      },
      "source": [
        "# transformando a modalidade. Obs.: apenas para demonstração. Dar replace\n",
        "# nas variaveis não é a melhor prática. Para isso, criamos uma nova como exemplo\n",
        "# DESC_PUBLICA\n",
        "\n",
        "enade['CO_MODALIDADE'] = enade.CO_MODALIDADE.replace({\n",
        "    0 : \"EAD\",\n",
        "    1 : \"Presencial\"\n",
        "    \n",
        "})"
      ],
      "execution_count": null,
      "outputs": []
    },
    {
      "cell_type": "code",
      "metadata": {
        "id": "FY6W2bFBLHRT"
      },
      "source": [
        "enade.CO_MODALIDADE.value_counts()"
      ],
      "execution_count": null,
      "outputs": []
    },
    {
      "cell_type": "code",
      "metadata": {
        "id": "ZGU1LTIALHRU"
      },
      "source": [
        "# Transforma região\n",
        "\n",
        "enade['CO_REGIAO_CURSO'] = enade.CO_REGIAO_CURSO.replace({\n",
        "    1 : 'Norte',\n",
        "    2 : 'Nordeste',\n",
        "    3 : 'Sudeste',\n",
        "    4 : 'Sul',\n",
        "    5 : 'Centro Oeste'\n",
        "})"
      ],
      "execution_count": null,
      "outputs": []
    },
    {
      "cell_type": "code",
      "metadata": {
        "id": "CIi1W7kfLHRU"
      },
      "source": [
        "enade.CO_REGIAO_CURSO.value_counts()"
      ],
      "execution_count": null,
      "outputs": []
    },
    {
      "cell_type": "code",
      "metadata": {
        "id": "HK_0JDDYLHRU"
      },
      "source": [
        "# Transformando cor/raça\n",
        "\n",
        "enade.QE_I02.value_counts() #espaço em branco deve ser tratado"
      ],
      "execution_count": null,
      "outputs": []
    },
    {
      "cell_type": "code",
      "metadata": {
        "id": "i4JqYpjqLHRU"
      },
      "source": [
        "enade[\"DESC_COR\"] = enade.QE_I02.replace({\n",
        "    'A' : 'Branca',\n",
        "    'B' : 'Preta',\n",
        "    'C' : 'Amarela',\n",
        "    'D' : 'Parda',\n",
        "    'E' : 'Indigena',\n",
        "    'F' : pd.NA,      #tratamento para campos em brancos, assim o análise estatística não levará em conta esses campos\n",
        "    ' ' : pd.NA\n",
        "    \n",
        "})"
      ],
      "execution_count": null,
      "outputs": []
    },
    {
      "cell_type": "code",
      "metadata": {
        "id": "ROlyNx4HLHRV"
      },
      "source": [
        "dict(enade.DESC_COR.value_counts())"
      ],
      "execution_count": null,
      "outputs": []
    },
    {
      "cell_type": "markdown",
      "metadata": {
        "id": "Ip8LSGGQLHRV"
      },
      "source": [
        "## Outras questões:"
      ]
    },
    {
      "cell_type": "markdown",
      "metadata": {
        "id": "GUATpVdZLHRV"
      },
      "source": [
        "1 - Qual é a nota geral média dos alunos do Nordeste?"
      ]
    },
    {
      "cell_type": "code",
      "metadata": {
        "id": "RjE5xSLrLHRV"
      },
      "source": [
        "enade.loc[  \n",
        "    enade.CO_REGIAO_CURSO == \"Nordeste\",\n",
        "    'NT_GER'\n",
        "\n",
        "].mean()"
      ],
      "execution_count": null,
      "outputs": []
    },
    {
      "cell_type": "markdown",
      "metadata": {
        "id": "k6wF0i6LLHRV"
      },
      "source": [
        "2 - Qual é a média da nota do componente específico dos alunos do RS dos cursos de engenharia elétrica?"
      ]
    },
    {
      "cell_type": "code",
      "metadata": {
        "id": "YqdFdMjvLHRV",
        "outputId": "6fc2c1f7-efee-4088-cc4e-4be8bd0fa626"
      },
      "source": [
        "enade.loc [\n",
        "    (enade.CO_UF_CURSO == 43) &\n",
        "    (enade.CO_GRUPO == 5806),\n",
        "    'NT_CE'\n",
        "].mean()"
      ],
      "execution_count": null,
      "outputs": [
        {
          "data": {
            "text/plain": [
              "34.79692671394829"
            ]
          },
          "execution_count": 23,
          "metadata": {},
          "output_type": "execute_result"
        }
      ]
    },
    {
      "cell_type": "markdown",
      "metadata": {
        "id": "QpZIdvJHLHRW"
      },
      "source": [
        "3 - Qual a média da nota do componete de formação geral de alunas (sexo feminino) da cor parda em minas gerais, em cursos presenciais de Engenharia de Produção?"
      ]
    },
    {
      "cell_type": "code",
      "metadata": {
        "id": "TStYIRk9LHRW",
        "outputId": "90b700ba-bbbb-41b6-bb40-bfad5c775ae6"
      },
      "source": [
        "enade.loc[\n",
        "    (enade.TP_SEXO == 'F') & \n",
        "    (enade.DESC_COR == 'Parda') & \n",
        "    (enade.CO_UF_CURSO == 31) &\n",
        "    (enade.CO_MODALIDADE == 'Presencial') & \n",
        "    (enade.CO_GRUPO == 6208),\n",
        "    \"NT_FG\"\n",
        "].mean()"
      ],
      "execution_count": null,
      "outputs": [
        {
          "data": {
            "text/plain": [
              "40.19142394822005"
            ]
          },
          "execution_count": 24,
          "metadata": {},
          "output_type": "execute_result"
        }
      ]
    },
    {
      "cell_type": "code",
      "metadata": {
        "id": "EN3j4YUCLHRW"
      },
      "source": [
        ""
      ],
      "execution_count": null,
      "outputs": []
    }
  ]
}